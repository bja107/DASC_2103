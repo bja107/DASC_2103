{
 "cells": [
  {
   "attachments": {},
   "cell_type": "markdown",
   "metadata": {},
   "source": [
    "**Question 1:** Create a panda series from each of the items below: a list, numpy and a dictionary Input.  Display each of the series after you create them."
   ]
  },
  {
   "cell_type": "code",
   "execution_count": 2,
   "metadata": {},
   "outputs": [],
   "source": [
    "#Imports\n",
    "import numpy as np\n",
    "import pandas as pd"
   ]
  },
  {
   "cell_type": "code",
   "execution_count": 4,
   "metadata": {},
   "outputs": [],
   "source": [
    "# Given\n",
    "mylist = list('abcedfghijklmnopqrstuvwxyz')\n",
    "myarr = np.arange(26)\n",
    "mydict = dict(zip(mylist, myarr))\n"
   ]
  },
  {
   "cell_type": "code",
   "execution_count": 13,
   "metadata": {},
   "outputs": [
    {
     "name": "stdout",
     "output_type": "stream",
     "text": [
      "Series from list: 0     a\n",
      "1     b\n",
      "2     c\n",
      "3     e\n",
      "4     d\n",
      "5     f\n",
      "6     g\n",
      "7     h\n",
      "8     i\n",
      "9     j\n",
      "10    k\n",
      "11    l\n",
      "12    m\n",
      "13    n\n",
      "14    o\n",
      "15    p\n",
      "16    q\n",
      "17    r\n",
      "18    s\n",
      "19    t\n",
      "20    u\n",
      "21    v\n",
      "22    w\n",
      "23    x\n",
      "24    y\n",
      "25    z\n",
      "dtype: object\n",
      "\n",
      "Series from numpy array: 0      0\n",
      "1      1\n",
      "2      2\n",
      "3      3\n",
      "4      4\n",
      "5      5\n",
      "6      6\n",
      "7      7\n",
      "8      8\n",
      "9      9\n",
      "10    10\n",
      "11    11\n",
      "12    12\n",
      "13    13\n",
      "14    14\n",
      "15    15\n",
      "16    16\n",
      "17    17\n",
      "18    18\n",
      "19    19\n",
      "20    20\n",
      "21    21\n",
      "22    22\n",
      "23    23\n",
      "24    24\n",
      "25    25\n",
      "dtype: int64 \n",
      "\n",
      "\n",
      "Series from dictionary: a     0\n",
      "b     1\n",
      "c     2\n",
      "e     3\n",
      "d     4\n",
      "f     5\n",
      "g     6\n",
      "h     7\n",
      "i     8\n",
      "j     9\n",
      "k    10\n",
      "l    11\n",
      "m    12\n",
      "n    13\n",
      "o    14\n",
      "p    15\n",
      "q    16\n",
      "r    17\n",
      "s    18\n",
      "t    19\n",
      "u    20\n",
      "v    21\n",
      "w    22\n",
      "x    23\n",
      "y    24\n",
      "z    25\n",
      "dtype: int64\n"
     ]
    }
   ],
   "source": [
    "#Question 1 Answer\n",
    "# create a list\n",
    "mylist = list('abcedfghijklmnopqrstuvwxyz')\n",
    "series_from_list = pd.Series(mylist)\n",
    "print(\"Series from list:\", series_from_list)"
   ]
  },
  {
   "cell_type": "code",
   "execution_count": 3,
   "metadata": {},
   "outputs": [
    {
     "name": "stdout",
     "output_type": "stream",
     "text": [
      "\n",
      "Series from numpy array: 0      0\n",
      "1      1\n",
      "2      2\n",
      "3      3\n",
      "4      4\n",
      "5      5\n",
      "6      6\n",
      "7      7\n",
      "8      8\n",
      "9      9\n",
      "10    10\n",
      "11    11\n",
      "12    12\n",
      "13    13\n",
      "14    14\n",
      "15    15\n",
      "16    16\n",
      "17    17\n",
      "18    18\n",
      "19    19\n",
      "20    20\n",
      "21    21\n",
      "22    22\n",
      "23    23\n",
      "24    24\n",
      "25    25\n",
      "dtype: int64 \n",
      "\n"
     ]
    }
   ],
   "source": [
    "# create a numpy array\n",
    "myarr = np.arange(26)\n",
    "series_from_numpy = pd.Series(myarr)\n",
    "print(\"\\nSeries from numpy array:\", series_from_numpy, \"\\n\")"
   ]
  },
  {
   "cell_type": "code",
   "execution_count": null,
   "metadata": {},
   "outputs": [],
   "source": [
    "# create a dictionary\n",
    "mydict = dict(zip(mylist, myarr))\n",
    "series_from_dict = pd.Series(mydict)\n",
    "print(\"\\nSeries from dictionary:\", series_from_dict)"
   ]
  },
  {
   "attachments": {},
   "cell_type": "markdown",
   "metadata": {},
   "source": [
    "**Question 2:** Convert the series ser into a dataframe with its index as another column on the dataframe. Display the series after creation."
   ]
  },
  {
   "cell_type": "code",
   "execution_count": 3,
   "metadata": {},
   "outputs": [],
   "source": [
    "#Given\n",
    "mylist = list('abcedfghijklmnopqrstuvwxyz')\n",
    "myarr = np.arange(26)\n",
    "mydict = dict(zip(mylist, myarr))\n",
    "ser = pd.Series(mydict)\n"
   ]
  },
  {
   "cell_type": "code",
   "execution_count": 4,
   "metadata": {},
   "outputs": [
    {
     "name": "stdout",
     "output_type": "stream",
     "text": [
      "   index  values\n",
      "0      a       0\n",
      "1      b       1\n",
      "2      c       2\n",
      "3      e       3\n",
      "4      d       4\n",
      "5      f       5\n",
      "6      g       6\n",
      "7      h       7\n",
      "8      i       8\n",
      "9      j       9\n",
      "10     k      10\n",
      "11     l      11\n",
      "12     m      12\n",
      "13     n      13\n",
      "14     o      14\n",
      "15     p      15\n",
      "16     q      16\n",
      "17     r      17\n",
      "18     s      18\n",
      "19     t      19\n",
      "20     u      20\n",
      "21     v      21\n",
      "22     w      22\n",
      "23     x      23\n",
      "24     y      24\n",
      "25     z      25\n"
     ]
    }
   ],
   "source": [
    "#Question 2 Answer\n",
    "# convert series to dataframe\n",
    "df = ser.to_frame().reset_index()\n",
    "\n",
    "# rename the columns\n",
    "df.columns = ['index', 'values']\n",
    "\n",
    "# display the dataframe\n",
    "print(df)"
   ]
  },
  {
   "attachments": {},
   "cell_type": "markdown",
   "metadata": {},
   "source": [
    "**Question 3:** Get all items of ser1 and ser2 not common to both.  Display the series after creation."
   ]
  },
  {
   "cell_type": "code",
   "execution_count": 5,
   "metadata": {},
   "outputs": [],
   "source": [
    "#Given\n",
    "ser1 = pd.Series([1, 2, 3, 4, 5])\n",
    "ser2 = pd.Series([4, 5, 6, 7, 8])"
   ]
  },
  {
   "cell_type": "code",
   "execution_count": 8,
   "metadata": {},
   "outputs": [
    {
     "name": "stdout",
     "output_type": "stream",
     "text": [
      "0    1\n",
      "1    2\n",
      "2    3\n",
      "3    6\n",
      "4    7\n",
      "5    8\n",
      "dtype: int64\n"
     ]
    }
   ],
   "source": [
    "# Question 3 Answer\n",
    "# get items of ser1 and ser2 not common to both\n",
    "not_common = set(ser1).symmetric_difference(set(ser2))\n",
    "\n",
    "# create a new series with the not common items\n",
    "result = pd.Series(list(not_common))\n",
    "\n",
    "# display the series\n",
    "print(result)"
   ]
  },
  {
   "attachments": {},
   "cell_type": "markdown",
   "metadata": {},
   "source": [
    "**Question 4:** From ser, keep the top 2 most frequent items as it is and replace everything else as ‘Other’.  Display the series after creation."
   ]
  },
  {
   "cell_type": "code",
   "execution_count": 9,
   "metadata": {},
   "outputs": [],
   "source": [
    "# Given\n",
    "np.random.RandomState(100)\n",
    "ser = pd.Series(np.random.randint(1, 5, [12]))"
   ]
  },
  {
   "cell_type": "code",
   "execution_count": 10,
   "metadata": {},
   "outputs": [
    {
     "name": "stdout",
     "output_type": "stream",
     "text": [
      "0         1\n",
      "1         3\n",
      "2         3\n",
      "3     Other\n",
      "4         1\n",
      "5         1\n",
      "6         3\n",
      "7     Other\n",
      "8         1\n",
      "9         1\n",
      "10    Other\n",
      "11        1\n",
      "dtype: object\n"
     ]
    }
   ],
   "source": [
    "# Question 4 Answer\n",
    "# find the top 2 most frequent items\n",
    "top_2 = ser.value_counts().nlargest(2).index\n",
    "\n",
    "# replace all other items with 'Other'\n",
    "result = ser.apply(lambda x: x if x in top_2 else 'Other').map({top_2[0]: top_2[0], top_2[1]: top_2[1], 'Other': 'Other'})\n",
    "\n",
    "# display the resulting series\n",
    "print(result)"
   ]
  },
  {
   "attachments": {},
   "cell_type": "markdown",
   "metadata": {},
   "source": [
    "**Question 5:** Bin the series ser into 10 equal quantiles and replace the values with the bin name.  Display the series after creation."
   ]
  },
  {
   "cell_type": "code",
   "execution_count": 25,
   "metadata": {},
   "outputs": [
    {
     "name": "stdout",
     "output_type": "stream",
     "text": [
      "0    0.473292\n",
      "1    0.384690\n",
      "2    0.451183\n",
      "3    0.399151\n",
      "4    0.314669\n",
      "dtype: float64\n"
     ]
    }
   ],
   "source": [
    "# Given\n",
    "ser = pd.Series(np.random.random(20))\n",
    "print(ser.head())"
   ]
  },
  {
   "cell_type": "code",
   "execution_count": 26,
   "metadata": {},
   "outputs": [
    {
     "name": "stdout",
     "output_type": "stream",
     "text": [
      "0      5th\n",
      "1      3th\n",
      "2      4th\n",
      "3      4th\n",
      "4      3th\n",
      "5      6th\n",
      "6      5th\n",
      "7      6th\n",
      "8      9th\n",
      "9      7th\n",
      "10     8th\n",
      "11    10th\n",
      "12     1th\n",
      "13     2th\n",
      "14    10th\n",
      "15     7th\n",
      "16     1th\n",
      "17     2th\n",
      "18     8th\n",
      "19     9th\n",
      "dtype: object\n"
     ]
    }
   ],
   "source": [
    "# Question 5 Answer\n",
    "# bin the series into 10 equal quantiles\n",
    "result = pd.qcut(ser, q=10, labels=False)\n",
    "\n",
    "# replace the values with the bin name\n",
    "result = result.apply(lambda x: f'{x+1}th')\n",
    "\n",
    "# display the resulting series\n",
    "print(result)"
   ]
  }
 ],
 "metadata": {
  "kernelspec": {
   "display_name": "base",
   "language": "python",
   "name": "python3"
  },
  "language_info": {
   "codemirror_mode": {
    "name": "ipython",
    "version": 3
   },
   "file_extension": ".py",
   "mimetype": "text/x-python",
   "name": "python",
   "nbconvert_exporter": "python",
   "pygments_lexer": "ipython3",
   "version": "3.9.13"
  },
  "orig_nbformat": 4
 },
 "nbformat": 4,
 "nbformat_minor": 2
}
